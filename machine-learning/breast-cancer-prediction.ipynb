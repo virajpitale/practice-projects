{
 "cells": [
  {
   "cell_type": "code",
   "execution_count": 1,
   "id": "62f69df4",
   "metadata": {
    "execution": {
     "iopub.execute_input": "2024-07-09T04:31:01.587667Z",
     "iopub.status.busy": "2024-07-09T04:31:01.587239Z",
     "iopub.status.idle": "2024-07-09T04:31:02.589238Z",
     "shell.execute_reply": "2024-07-09T04:31:02.588077Z"
    },
    "papermill": {
     "duration": 1.009958,
     "end_time": "2024-07-09T04:31:02.591867",
     "exception": false,
     "start_time": "2024-07-09T04:31:01.581909",
     "status": "completed"
    },
    "tags": []
   },
   "outputs": [],
   "source": [
    "import pandas as pd\n",
    "import numpy as np"
   ]
  },
  {
   "cell_type": "code",
   "execution_count": 2,
   "id": "042f4fa9",
   "metadata": {
    "execution": {
     "iopub.execute_input": "2024-07-09T04:31:02.599596Z",
     "iopub.status.busy": "2024-07-09T04:31:02.599099Z",
     "iopub.status.idle": "2024-07-09T04:31:02.618706Z",
     "shell.execute_reply": "2024-07-09T04:31:02.617429Z"
    },
    "papermill": {
     "duration": 0.026368,
     "end_time": "2024-07-09T04:31:02.621477",
     "exception": false,
     "start_time": "2024-07-09T04:31:02.595109",
     "status": "completed"
    },
    "tags": []
   },
   "outputs": [],
   "source": [
    "df = pd.read_csv('/kaggle/input/breast-cancer-diagnosis-data-insights/Breast_cancer_data.csv')"
   ]
  },
  {
   "cell_type": "code",
   "execution_count": 3,
   "id": "35fdc47b",
   "metadata": {
    "execution": {
     "iopub.execute_input": "2024-07-09T04:31:02.628876Z",
     "iopub.status.busy": "2024-07-09T04:31:02.628501Z",
     "iopub.status.idle": "2024-07-09T04:31:02.656127Z",
     "shell.execute_reply": "2024-07-09T04:31:02.655024Z"
    },
    "papermill": {
     "duration": 0.034218,
     "end_time": "2024-07-09T04:31:02.658685",
     "exception": false,
     "start_time": "2024-07-09T04:31:02.624467",
     "status": "completed"
    },
    "tags": []
   },
   "outputs": [
    {
     "data": {
      "text/html": [
       "<div>\n",
       "<style scoped>\n",
       "    .dataframe tbody tr th:only-of-type {\n",
       "        vertical-align: middle;\n",
       "    }\n",
       "\n",
       "    .dataframe tbody tr th {\n",
       "        vertical-align: top;\n",
       "    }\n",
       "\n",
       "    .dataframe thead th {\n",
       "        text-align: right;\n",
       "    }\n",
       "</style>\n",
       "<table border=\"1\" class=\"dataframe\">\n",
       "  <thead>\n",
       "    <tr style=\"text-align: right;\">\n",
       "      <th></th>\n",
       "      <th>mean_radius</th>\n",
       "      <th>mean_texture</th>\n",
       "      <th>mean_perimeter</th>\n",
       "      <th>mean_area</th>\n",
       "      <th>mean_smoothness</th>\n",
       "      <th>diagnosis</th>\n",
       "    </tr>\n",
       "  </thead>\n",
       "  <tbody>\n",
       "    <tr>\n",
       "      <th>0</th>\n",
       "      <td>17.99</td>\n",
       "      <td>10.38</td>\n",
       "      <td>122.80</td>\n",
       "      <td>1001.0</td>\n",
       "      <td>0.11840</td>\n",
       "      <td>0</td>\n",
       "    </tr>\n",
       "    <tr>\n",
       "      <th>1</th>\n",
       "      <td>20.57</td>\n",
       "      <td>17.77</td>\n",
       "      <td>132.90</td>\n",
       "      <td>1326.0</td>\n",
       "      <td>0.08474</td>\n",
       "      <td>0</td>\n",
       "    </tr>\n",
       "    <tr>\n",
       "      <th>2</th>\n",
       "      <td>19.69</td>\n",
       "      <td>21.25</td>\n",
       "      <td>130.00</td>\n",
       "      <td>1203.0</td>\n",
       "      <td>0.10960</td>\n",
       "      <td>0</td>\n",
       "    </tr>\n",
       "    <tr>\n",
       "      <th>3</th>\n",
       "      <td>11.42</td>\n",
       "      <td>20.38</td>\n",
       "      <td>77.58</td>\n",
       "      <td>386.1</td>\n",
       "      <td>0.14250</td>\n",
       "      <td>0</td>\n",
       "    </tr>\n",
       "    <tr>\n",
       "      <th>4</th>\n",
       "      <td>20.29</td>\n",
       "      <td>14.34</td>\n",
       "      <td>135.10</td>\n",
       "      <td>1297.0</td>\n",
       "      <td>0.10030</td>\n",
       "      <td>0</td>\n",
       "    </tr>\n",
       "  </tbody>\n",
       "</table>\n",
       "</div>"
      ],
      "text/plain": [
       "   mean_radius  mean_texture  mean_perimeter  mean_area  mean_smoothness  \\\n",
       "0        17.99         10.38          122.80     1001.0          0.11840   \n",
       "1        20.57         17.77          132.90     1326.0          0.08474   \n",
       "2        19.69         21.25          130.00     1203.0          0.10960   \n",
       "3        11.42         20.38           77.58      386.1          0.14250   \n",
       "4        20.29         14.34          135.10     1297.0          0.10030   \n",
       "\n",
       "   diagnosis  \n",
       "0          0  \n",
       "1          0  \n",
       "2          0  \n",
       "3          0  \n",
       "4          0  "
      ]
     },
     "execution_count": 3,
     "metadata": {},
     "output_type": "execute_result"
    }
   ],
   "source": [
    "df.head()"
   ]
  },
  {
   "cell_type": "code",
   "execution_count": 4,
   "id": "441da4ff",
   "metadata": {
    "execution": {
     "iopub.execute_input": "2024-07-09T04:31:02.666664Z",
     "iopub.status.busy": "2024-07-09T04:31:02.666283Z",
     "iopub.status.idle": "2024-07-09T04:31:02.691440Z",
     "shell.execute_reply": "2024-07-09T04:31:02.690370Z"
    },
    "papermill": {
     "duration": 0.031844,
     "end_time": "2024-07-09T04:31:02.693770",
     "exception": false,
     "start_time": "2024-07-09T04:31:02.661926",
     "status": "completed"
    },
    "tags": []
   },
   "outputs": [
    {
     "name": "stdout",
     "output_type": "stream",
     "text": [
      "<class 'pandas.core.frame.DataFrame'>\n",
      "RangeIndex: 569 entries, 0 to 568\n",
      "Data columns (total 6 columns):\n",
      " #   Column           Non-Null Count  Dtype  \n",
      "---  ------           --------------  -----  \n",
      " 0   mean_radius      569 non-null    float64\n",
      " 1   mean_texture     569 non-null    float64\n",
      " 2   mean_perimeter   569 non-null    float64\n",
      " 3   mean_area        569 non-null    float64\n",
      " 4   mean_smoothness  569 non-null    float64\n",
      " 5   diagnosis        569 non-null    int64  \n",
      "dtypes: float64(5), int64(1)\n",
      "memory usage: 26.8 KB\n"
     ]
    }
   ],
   "source": [
    "df.info()"
   ]
  },
  {
   "cell_type": "code",
   "execution_count": 5,
   "id": "cae7ac02",
   "metadata": {
    "execution": {
     "iopub.execute_input": "2024-07-09T04:31:02.702522Z",
     "iopub.status.busy": "2024-07-09T04:31:02.701614Z",
     "iopub.status.idle": "2024-07-09T04:31:02.731122Z",
     "shell.execute_reply": "2024-07-09T04:31:02.730082Z"
    },
    "papermill": {
     "duration": 0.036503,
     "end_time": "2024-07-09T04:31:02.733741",
     "exception": false,
     "start_time": "2024-07-09T04:31:02.697238",
     "status": "completed"
    },
    "tags": []
   },
   "outputs": [
    {
     "data": {
      "text/html": [
       "<div>\n",
       "<style scoped>\n",
       "    .dataframe tbody tr th:only-of-type {\n",
       "        vertical-align: middle;\n",
       "    }\n",
       "\n",
       "    .dataframe tbody tr th {\n",
       "        vertical-align: top;\n",
       "    }\n",
       "\n",
       "    .dataframe thead th {\n",
       "        text-align: right;\n",
       "    }\n",
       "</style>\n",
       "<table border=\"1\" class=\"dataframe\">\n",
       "  <thead>\n",
       "    <tr style=\"text-align: right;\">\n",
       "      <th></th>\n",
       "      <th>mean_radius</th>\n",
       "      <th>mean_texture</th>\n",
       "      <th>mean_perimeter</th>\n",
       "      <th>mean_area</th>\n",
       "      <th>mean_smoothness</th>\n",
       "      <th>diagnosis</th>\n",
       "    </tr>\n",
       "  </thead>\n",
       "  <tbody>\n",
       "    <tr>\n",
       "      <th>count</th>\n",
       "      <td>569.000000</td>\n",
       "      <td>569.000000</td>\n",
       "      <td>569.000000</td>\n",
       "      <td>569.000000</td>\n",
       "      <td>569.000000</td>\n",
       "      <td>569.000000</td>\n",
       "    </tr>\n",
       "    <tr>\n",
       "      <th>mean</th>\n",
       "      <td>14.127292</td>\n",
       "      <td>19.289649</td>\n",
       "      <td>91.969033</td>\n",
       "      <td>654.889104</td>\n",
       "      <td>0.096360</td>\n",
       "      <td>0.627417</td>\n",
       "    </tr>\n",
       "    <tr>\n",
       "      <th>std</th>\n",
       "      <td>3.524049</td>\n",
       "      <td>4.301036</td>\n",
       "      <td>24.298981</td>\n",
       "      <td>351.914129</td>\n",
       "      <td>0.014064</td>\n",
       "      <td>0.483918</td>\n",
       "    </tr>\n",
       "    <tr>\n",
       "      <th>min</th>\n",
       "      <td>6.981000</td>\n",
       "      <td>9.710000</td>\n",
       "      <td>43.790000</td>\n",
       "      <td>143.500000</td>\n",
       "      <td>0.052630</td>\n",
       "      <td>0.000000</td>\n",
       "    </tr>\n",
       "    <tr>\n",
       "      <th>25%</th>\n",
       "      <td>11.700000</td>\n",
       "      <td>16.170000</td>\n",
       "      <td>75.170000</td>\n",
       "      <td>420.300000</td>\n",
       "      <td>0.086370</td>\n",
       "      <td>0.000000</td>\n",
       "    </tr>\n",
       "    <tr>\n",
       "      <th>50%</th>\n",
       "      <td>13.370000</td>\n",
       "      <td>18.840000</td>\n",
       "      <td>86.240000</td>\n",
       "      <td>551.100000</td>\n",
       "      <td>0.095870</td>\n",
       "      <td>1.000000</td>\n",
       "    </tr>\n",
       "    <tr>\n",
       "      <th>75%</th>\n",
       "      <td>15.780000</td>\n",
       "      <td>21.800000</td>\n",
       "      <td>104.100000</td>\n",
       "      <td>782.700000</td>\n",
       "      <td>0.105300</td>\n",
       "      <td>1.000000</td>\n",
       "    </tr>\n",
       "    <tr>\n",
       "      <th>max</th>\n",
       "      <td>28.110000</td>\n",
       "      <td>39.280000</td>\n",
       "      <td>188.500000</td>\n",
       "      <td>2501.000000</td>\n",
       "      <td>0.163400</td>\n",
       "      <td>1.000000</td>\n",
       "    </tr>\n",
       "  </tbody>\n",
       "</table>\n",
       "</div>"
      ],
      "text/plain": [
       "       mean_radius  mean_texture  mean_perimeter    mean_area  \\\n",
       "count   569.000000    569.000000      569.000000   569.000000   \n",
       "mean     14.127292     19.289649       91.969033   654.889104   \n",
       "std       3.524049      4.301036       24.298981   351.914129   \n",
       "min       6.981000      9.710000       43.790000   143.500000   \n",
       "25%      11.700000     16.170000       75.170000   420.300000   \n",
       "50%      13.370000     18.840000       86.240000   551.100000   \n",
       "75%      15.780000     21.800000      104.100000   782.700000   \n",
       "max      28.110000     39.280000      188.500000  2501.000000   \n",
       "\n",
       "       mean_smoothness   diagnosis  \n",
       "count       569.000000  569.000000  \n",
       "mean          0.096360    0.627417  \n",
       "std           0.014064    0.483918  \n",
       "min           0.052630    0.000000  \n",
       "25%           0.086370    0.000000  \n",
       "50%           0.095870    1.000000  \n",
       "75%           0.105300    1.000000  \n",
       "max           0.163400    1.000000  "
      ]
     },
     "execution_count": 5,
     "metadata": {},
     "output_type": "execute_result"
    }
   ],
   "source": [
    "df.describe()"
   ]
  },
  {
   "cell_type": "code",
   "execution_count": 6,
   "id": "7dcdcf9c",
   "metadata": {
    "execution": {
     "iopub.execute_input": "2024-07-09T04:31:02.742647Z",
     "iopub.status.busy": "2024-07-09T04:31:02.742272Z",
     "iopub.status.idle": "2024-07-09T04:31:04.007752Z",
     "shell.execute_reply": "2024-07-09T04:31:04.006428Z"
    },
    "papermill": {
     "duration": 1.273005,
     "end_time": "2024-07-09T04:31:04.010426",
     "exception": false,
     "start_time": "2024-07-09T04:31:02.737421",
     "status": "completed"
    },
    "tags": []
   },
   "outputs": [],
   "source": [
    "from sklearn.preprocessing import MinMaxScaler\n",
    "scaler = MinMaxScaler()\n",
    "df_final = scaler.fit_transform(df.drop('diagnosis', axis = 1))"
   ]
  },
  {
   "cell_type": "code",
   "execution_count": 7,
   "id": "e5375ec4",
   "metadata": {
    "execution": {
     "iopub.execute_input": "2024-07-09T04:31:04.020350Z",
     "iopub.status.busy": "2024-07-09T04:31:04.019905Z",
     "iopub.status.idle": "2024-07-09T04:31:04.136684Z",
     "shell.execute_reply": "2024-07-09T04:31:04.135423Z"
    },
    "papermill": {
     "duration": 0.125041,
     "end_time": "2024-07-09T04:31:04.139450",
     "exception": false,
     "start_time": "2024-07-09T04:31:04.014409",
     "status": "completed"
    },
    "tags": []
   },
   "outputs": [],
   "source": [
    "from sklearn.model_selection import train_test_split\n",
    "\n",
    "# Assuming df_final contains your features and df.diagnosis contains your target variable\n",
    "\n",
    "X = df_final\n",
    "y = df.diagnosis\n",
    "\n",
    "# Split the data into training and testing sets\n",
    "X_train, X_test, y_train, y_test = train_test_split(X, y, test_size=0.25, random_state=42)\n"
   ]
  },
  {
   "cell_type": "code",
   "execution_count": 8,
   "id": "9ae133ad",
   "metadata": {
    "execution": {
     "iopub.execute_input": "2024-07-09T04:31:04.148887Z",
     "iopub.status.busy": "2024-07-09T04:31:04.148129Z",
     "iopub.status.idle": "2024-07-09T04:31:04.507875Z",
     "shell.execute_reply": "2024-07-09T04:31:04.506786Z"
    },
    "papermill": {
     "duration": 0.367259,
     "end_time": "2024-07-09T04:31:04.510554",
     "exception": false,
     "start_time": "2024-07-09T04:31:04.143295",
     "status": "completed"
    },
    "tags": []
   },
   "outputs": [],
   "source": [
    "from sklearn.model_selection import cross_val_score\n",
    "from sklearn.metrics import accuracy_score, classification_report\n",
    "from sklearn.ensemble import RandomForestClassifier, GradientBoostingClassifier\n",
    "from sklearn.tree import DecisionTreeClassifier\n",
    "from sklearn.svm import SVC\n",
    "from sklearn.neighbors import KNeighborsClassifier"
   ]
  },
  {
   "cell_type": "code",
   "execution_count": 9,
   "id": "7992e629",
   "metadata": {
    "execution": {
     "iopub.execute_input": "2024-07-09T04:31:04.520303Z",
     "iopub.status.busy": "2024-07-09T04:31:04.519125Z",
     "iopub.status.idle": "2024-07-09T04:31:06.748285Z",
     "shell.execute_reply": "2024-07-09T04:31:06.747072Z"
    },
    "papermill": {
     "duration": 2.236553,
     "end_time": "2024-07-09T04:31:06.750882",
     "exception": false,
     "start_time": "2024-07-09T04:31:04.514329",
     "status": "completed"
    },
    "tags": []
   },
   "outputs": [
    {
     "name": "stdout",
     "output_type": "stream",
     "text": [
      "Decision Tree (max_depth=5) Accuracy: 0.92\n",
      "Decision Tree (max_depth=5) Classification Report:\n",
      "              precision    recall  f1-score   support\n",
      "\n",
      "           0       0.88      0.91      0.89        54\n",
      "           1       0.94      0.92      0.93        89\n",
      "\n",
      "    accuracy                           0.92       143\n",
      "   macro avg       0.91      0.91      0.91       143\n",
      "weighted avg       0.92      0.92      0.92       143\n",
      "\n",
      "Decision Tree (max_depth=5) Cross-validation scores: [0.85964912 0.88596491 0.92982456 0.92105263 0.87610619]\n",
      "Decision Tree (max_depth=5) Mean CV accuracy: 0.89\n",
      "\n",
      "\n",
      "Random Forest (n_estimators=100, max_depth=5) Accuracy: 0.96\n",
      "Random Forest (n_estimators=100, max_depth=5) Classification Report:\n",
      "              precision    recall  f1-score   support\n",
      "\n",
      "           0       0.98      0.91      0.94        54\n",
      "           1       0.95      0.99      0.97        89\n",
      "\n",
      "    accuracy                           0.96       143\n",
      "   macro avg       0.96      0.95      0.95       143\n",
      "weighted avg       0.96      0.96      0.96       143\n",
      "\n",
      "Random Forest (n_estimators=100, max_depth=5) Cross-validation scores: [0.88596491 0.90350877 0.93859649 0.95614035 0.92035398]\n",
      "Random Forest (n_estimators=100, max_depth=5) Mean CV accuracy: 0.92\n",
      "\n",
      "\n",
      "Gradient Boosting (n_estimators=100, learning_rate=0.1, max_depth=3) Accuracy: 0.95\n",
      "Gradient Boosting (n_estimators=100, learning_rate=0.1, max_depth=3) Classification Report:\n",
      "              precision    recall  f1-score   support\n",
      "\n",
      "           0       0.91      0.96      0.94        54\n",
      "           1       0.98      0.94      0.96        89\n",
      "\n",
      "    accuracy                           0.95       143\n",
      "   macro avg       0.94      0.95      0.95       143\n",
      "weighted avg       0.95      0.95      0.95       143\n",
      "\n",
      "Gradient Boosting (n_estimators=100, learning_rate=0.1, max_depth=3) Cross-validation scores: [0.85964912 0.89473684 0.94736842 0.95614035 0.92035398]\n",
      "Gradient Boosting (n_estimators=100, learning_rate=0.1, max_depth=3) Mean CV accuracy: 0.92\n",
      "\n",
      "\n",
      "Support Vector Machine (kernel=\"rbf\", C=1.0, gamma=\"scale\") Accuracy: 0.97\n",
      "Support Vector Machine (kernel=\"rbf\", C=1.0, gamma=\"scale\") Classification Report:\n",
      "              precision    recall  f1-score   support\n",
      "\n",
      "           0       0.98      0.93      0.95        54\n",
      "           1       0.96      0.99      0.97        89\n",
      "\n",
      "    accuracy                           0.97       143\n",
      "   macro avg       0.97      0.96      0.96       143\n",
      "weighted avg       0.97      0.97      0.96       143\n",
      "\n",
      "Support Vector Machine (kernel=\"rbf\", C=1.0, gamma=\"scale\") Cross-validation scores: [0.89473684 0.92982456 0.93859649 0.94736842 0.92035398]\n",
      "Support Vector Machine (kernel=\"rbf\", C=1.0, gamma=\"scale\") Mean CV accuracy: 0.93\n",
      "\n",
      "\n",
      "K-Nearest Neighbors (n_neighbors=5) Accuracy: 0.94\n",
      "K-Nearest Neighbors (n_neighbors=5) Classification Report:\n",
      "              precision    recall  f1-score   support\n",
      "\n",
      "           0       0.92      0.91      0.92        54\n",
      "           1       0.94      0.96      0.95        89\n",
      "\n",
      "    accuracy                           0.94       143\n",
      "   macro avg       0.93      0.93      0.93       143\n",
      "weighted avg       0.94      0.94      0.94       143\n",
      "\n",
      "K-Nearest Neighbors (n_neighbors=5) Cross-validation scores: [0.86842105 0.90350877 0.92982456 0.93859649 0.88495575]\n",
      "K-Nearest Neighbors (n_neighbors=5) Mean CV accuracy: 0.91\n",
      "\n",
      "\n"
     ]
    }
   ],
   "source": [
    "classifiers = {\n",
    "    'Decision Tree (max_depth=5)': DecisionTreeClassifier(max_depth=5, random_state=42),\n",
    "    'Random Forest (n_estimators=100, max_depth=5)': RandomForestClassifier(n_estimators=100, max_depth=5, random_state=42),\n",
    "    'Gradient Boosting (n_estimators=100, learning_rate=0.1, max_depth=3)': GradientBoostingClassifier(n_estimators=100, learning_rate=0.1, max_depth=3, random_state=42),\n",
    "    'Support Vector Machine (kernel=\"rbf\", C=1.0, gamma=\"scale\")': SVC(kernel='rbf', C=1.0, gamma='scale'),\n",
    "    'K-Nearest Neighbors (n_neighbors=5)': KNeighborsClassifier(n_neighbors=5)\n",
    "}\n",
    "\n",
    "# Iterate over classifiers\n",
    "for name, classifier in classifiers.items():\n",
    "    # Train the classifier\n",
    "    classifier.fit(X_train, y_train)\n",
    "\n",
    "    # Predict on the test set\n",
    "    y_pred = classifier.predict(X_test)\n",
    "\n",
    "    # Evaluate the model\n",
    "    accuracy = accuracy_score(y_test, y_pred)\n",
    "    print(f'{name} Accuracy: {accuracy:.2f}')\n",
    "\n",
    "    # Classification report\n",
    "    print(f'{name} Classification Report:')\n",
    "    print(classification_report(y_test, y_pred))\n",
    "\n",
    "    # Cross-validation\n",
    "    cv_scores = cross_val_score(classifier, X, y, cv=5)\n",
    "    print(f'{name} Cross-validation scores: {cv_scores}')\n",
    "    print(f'{name} Mean CV accuracy: {np.mean(cv_scores):.2f}')\n",
    "\n",
    "    print('\\n')"
   ]
  },
  {
   "cell_type": "code",
   "execution_count": null,
   "id": "633291ae",
   "metadata": {
    "papermill": {
     "duration": 0.003856,
     "end_time": "2024-07-09T04:31:06.759091",
     "exception": false,
     "start_time": "2024-07-09T04:31:06.755235",
     "status": "completed"
    },
    "tags": []
   },
   "outputs": [],
   "source": []
  }
 ],
 "metadata": {
  "kaggle": {
   "accelerator": "none",
   "dataSources": [
    {
     "datasetId": 5260471,
     "sourceId": 8756558,
     "sourceType": "datasetVersion"
    }
   ],
   "isGpuEnabled": false,
   "isInternetEnabled": true,
   "language": "python",
   "sourceType": "notebook"
  },
  "kernelspec": {
   "display_name": "Python 3 (ipykernel)",
   "language": "python",
   "name": "python3"
  },
  "language_info": {
   "codemirror_mode": {
    "name": "ipython",
    "version": 3
   },
   "file_extension": ".py",
   "mimetype": "text/x-python",
   "name": "python",
   "nbconvert_exporter": "python",
   "pygments_lexer": "ipython3",
   "version": "3.10.13"
  },
  "papermill": {
   "default_parameters": {},
   "duration": 8.676125,
   "end_time": "2024-07-09T04:31:07.384704",
   "environment_variables": {},
   "exception": null,
   "input_path": "__notebook__.ipynb",
   "output_path": "__notebook__.ipynb",
   "parameters": {},
   "start_time": "2024-07-09T04:30:58.708579",
   "version": "2.5.0"
  }
 },
 "nbformat": 4,
 "nbformat_minor": 5
}
