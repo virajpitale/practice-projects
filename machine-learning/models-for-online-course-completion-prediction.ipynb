{
 "cells": [
  {
   "cell_type": "code",
   "execution_count": 1,
   "id": "75eca83d",
   "metadata": {
    "execution": {
     "iopub.execute_input": "2024-07-09T04:35:09.052210Z",
     "iopub.status.busy": "2024-07-09T04:35:09.051733Z",
     "iopub.status.idle": "2024-07-09T04:35:11.340368Z",
     "shell.execute_reply": "2024-07-09T04:35:11.339193Z"
    },
    "papermill": {
     "duration": 2.298812,
     "end_time": "2024-07-09T04:35:11.343223",
     "exception": false,
     "start_time": "2024-07-09T04:35:09.044411",
     "status": "completed"
    },
    "tags": []
   },
   "outputs": [],
   "source": [
    "# Import necessary libraries\n",
    "import pandas as pd\n",
    "import numpy as np\n",
    "import matplotlib.pyplot as plt\n",
    "import seaborn as sns"
   ]
  },
  {
   "cell_type": "code",
   "execution_count": 2,
   "id": "a8c6c216",
   "metadata": {
    "execution": {
     "iopub.execute_input": "2024-07-09T04:35:11.355786Z",
     "iopub.status.busy": "2024-07-09T04:35:11.355265Z",
     "iopub.status.idle": "2024-07-09T04:35:11.401920Z",
     "shell.execute_reply": "2024-07-09T04:35:11.400573Z"
    },
    "papermill": {
     "duration": 0.056177,
     "end_time": "2024-07-09T04:35:11.404924",
     "exception": false,
     "start_time": "2024-07-09T04:35:11.348747",
     "status": "completed"
    },
    "tags": []
   },
   "outputs": [],
   "source": [
    "# Load the dataset\n",
    "df = pd.read_csv('/kaggle/input/predict-online-course-engagement-dataset/online_course_engagement_data.csv')"
   ]
  },
  {
   "cell_type": "code",
   "execution_count": 3,
   "id": "c00befdf",
   "metadata": {
    "execution": {
     "iopub.execute_input": "2024-07-09T04:35:11.417324Z",
     "iopub.status.busy": "2024-07-09T04:35:11.416874Z",
     "iopub.status.idle": "2024-07-09T04:35:11.445338Z",
     "shell.execute_reply": "2024-07-09T04:35:11.444192Z"
    },
    "papermill": {
     "duration": 0.037703,
     "end_time": "2024-07-09T04:35:11.448030",
     "exception": false,
     "start_time": "2024-07-09T04:35:11.410327",
     "status": "completed"
    },
    "tags": []
   },
   "outputs": [
    {
     "data": {
      "text/html": [
       "<div>\n",
       "<style scoped>\n",
       "    .dataframe tbody tr th:only-of-type {\n",
       "        vertical-align: middle;\n",
       "    }\n",
       "\n",
       "    .dataframe tbody tr th {\n",
       "        vertical-align: top;\n",
       "    }\n",
       "\n",
       "    .dataframe thead th {\n",
       "        text-align: right;\n",
       "    }\n",
       "</style>\n",
       "<table border=\"1\" class=\"dataframe\">\n",
       "  <thead>\n",
       "    <tr style=\"text-align: right;\">\n",
       "      <th></th>\n",
       "      <th>UserID</th>\n",
       "      <th>CourseCategory</th>\n",
       "      <th>TimeSpentOnCourse</th>\n",
       "      <th>NumberOfVideosWatched</th>\n",
       "      <th>NumberOfQuizzesTaken</th>\n",
       "      <th>QuizScores</th>\n",
       "      <th>CompletionRate</th>\n",
       "      <th>DeviceType</th>\n",
       "      <th>CourseCompletion</th>\n",
       "    </tr>\n",
       "  </thead>\n",
       "  <tbody>\n",
       "    <tr>\n",
       "      <th>0</th>\n",
       "      <td>5618</td>\n",
       "      <td>Health</td>\n",
       "      <td>29.979719</td>\n",
       "      <td>17</td>\n",
       "      <td>3</td>\n",
       "      <td>50.365656</td>\n",
       "      <td>20.860773</td>\n",
       "      <td>1</td>\n",
       "      <td>0</td>\n",
       "    </tr>\n",
       "    <tr>\n",
       "      <th>1</th>\n",
       "      <td>4326</td>\n",
       "      <td>Arts</td>\n",
       "      <td>27.802640</td>\n",
       "      <td>1</td>\n",
       "      <td>5</td>\n",
       "      <td>62.615970</td>\n",
       "      <td>65.632415</td>\n",
       "      <td>1</td>\n",
       "      <td>0</td>\n",
       "    </tr>\n",
       "    <tr>\n",
       "      <th>2</th>\n",
       "      <td>5849</td>\n",
       "      <td>Arts</td>\n",
       "      <td>86.820485</td>\n",
       "      <td>14</td>\n",
       "      <td>2</td>\n",
       "      <td>78.458962</td>\n",
       "      <td>63.812007</td>\n",
       "      <td>1</td>\n",
       "      <td>1</td>\n",
       "    </tr>\n",
       "    <tr>\n",
       "      <th>3</th>\n",
       "      <td>4992</td>\n",
       "      <td>Science</td>\n",
       "      <td>35.038427</td>\n",
       "      <td>17</td>\n",
       "      <td>10</td>\n",
       "      <td>59.198853</td>\n",
       "      <td>95.433162</td>\n",
       "      <td>0</td>\n",
       "      <td>1</td>\n",
       "    </tr>\n",
       "    <tr>\n",
       "      <th>4</th>\n",
       "      <td>3866</td>\n",
       "      <td>Programming</td>\n",
       "      <td>92.490647</td>\n",
       "      <td>16</td>\n",
       "      <td>0</td>\n",
       "      <td>98.428285</td>\n",
       "      <td>18.102478</td>\n",
       "      <td>0</td>\n",
       "      <td>0</td>\n",
       "    </tr>\n",
       "  </tbody>\n",
       "</table>\n",
       "</div>"
      ],
      "text/plain": [
       "   UserID CourseCategory  TimeSpentOnCourse  NumberOfVideosWatched  \\\n",
       "0    5618         Health          29.979719                     17   \n",
       "1    4326           Arts          27.802640                      1   \n",
       "2    5849           Arts          86.820485                     14   \n",
       "3    4992        Science          35.038427                     17   \n",
       "4    3866    Programming          92.490647                     16   \n",
       "\n",
       "   NumberOfQuizzesTaken  QuizScores  CompletionRate  DeviceType  \\\n",
       "0                     3   50.365656       20.860773           1   \n",
       "1                     5   62.615970       65.632415           1   \n",
       "2                     2   78.458962       63.812007           1   \n",
       "3                    10   59.198853       95.433162           0   \n",
       "4                     0   98.428285       18.102478           0   \n",
       "\n",
       "   CourseCompletion  \n",
       "0                 0  \n",
       "1                 0  \n",
       "2                 1  \n",
       "3                 1  \n",
       "4                 0  "
      ]
     },
     "execution_count": 3,
     "metadata": {},
     "output_type": "execute_result"
    }
   ],
   "source": [
    "# Display the first few rows of the dataframe\n",
    "df.head()"
   ]
  },
  {
   "cell_type": "code",
   "execution_count": 4,
   "id": "aeefd1e7",
   "metadata": {
    "execution": {
     "iopub.execute_input": "2024-07-09T04:35:11.461867Z",
     "iopub.status.busy": "2024-07-09T04:35:11.460916Z",
     "iopub.status.idle": "2024-07-09T04:35:11.475985Z",
     "shell.execute_reply": "2024-07-09T04:35:11.474907Z"
    },
    "papermill": {
     "duration": 0.024652,
     "end_time": "2024-07-09T04:35:11.478530",
     "exception": false,
     "start_time": "2024-07-09T04:35:11.453878",
     "status": "completed"
    },
    "tags": []
   },
   "outputs": [
    {
     "data": {
      "text/html": [
       "<div>\n",
       "<style scoped>\n",
       "    .dataframe tbody tr th:only-of-type {\n",
       "        vertical-align: middle;\n",
       "    }\n",
       "\n",
       "    .dataframe tbody tr th {\n",
       "        vertical-align: top;\n",
       "    }\n",
       "\n",
       "    .dataframe thead th {\n",
       "        text-align: right;\n",
       "    }\n",
       "</style>\n",
       "<table border=\"1\" class=\"dataframe\">\n",
       "  <thead>\n",
       "    <tr style=\"text-align: right;\">\n",
       "      <th></th>\n",
       "      <th>UserID</th>\n",
       "      <th>CourseCategory</th>\n",
       "      <th>TimeSpentOnCourse</th>\n",
       "      <th>NumberOfVideosWatched</th>\n",
       "      <th>NumberOfQuizzesTaken</th>\n",
       "      <th>QuizScores</th>\n",
       "      <th>CompletionRate</th>\n",
       "      <th>DeviceType</th>\n",
       "      <th>CourseCompletion</th>\n",
       "    </tr>\n",
       "  </thead>\n",
       "  <tbody>\n",
       "    <tr>\n",
       "      <th>8995</th>\n",
       "      <td>8757</td>\n",
       "      <td>Health</td>\n",
       "      <td>37.445225</td>\n",
       "      <td>14</td>\n",
       "      <td>4</td>\n",
       "      <td>54.469359</td>\n",
       "      <td>32.990704</td>\n",
       "      <td>1</td>\n",
       "      <td>0</td>\n",
       "    </tr>\n",
       "    <tr>\n",
       "      <th>8996</th>\n",
       "      <td>894</td>\n",
       "      <td>Science</td>\n",
       "      <td>48.631443</td>\n",
       "      <td>7</td>\n",
       "      <td>7</td>\n",
       "      <td>59.413257</td>\n",
       "      <td>0.254625</td>\n",
       "      <td>0</td>\n",
       "      <td>0</td>\n",
       "    </tr>\n",
       "    <tr>\n",
       "      <th>8997</th>\n",
       "      <td>6323</td>\n",
       "      <td>Health</td>\n",
       "      <td>38.212512</td>\n",
       "      <td>3</td>\n",
       "      <td>3</td>\n",
       "      <td>69.508297</td>\n",
       "      <td>70.188159</td>\n",
       "      <td>1</td>\n",
       "      <td>0</td>\n",
       "    </tr>\n",
       "    <tr>\n",
       "      <th>8998</th>\n",
       "      <td>3652</td>\n",
       "      <td>Health</td>\n",
       "      <td>70.048665</td>\n",
       "      <td>13</td>\n",
       "      <td>10</td>\n",
       "      <td>79.655182</td>\n",
       "      <td>72.975225</td>\n",
       "      <td>1</td>\n",
       "      <td>1</td>\n",
       "    </tr>\n",
       "    <tr>\n",
       "      <th>8999</th>\n",
       "      <td>5595</td>\n",
       "      <td>Health</td>\n",
       "      <td>93.589781</td>\n",
       "      <td>7</td>\n",
       "      <td>5</td>\n",
       "      <td>56.274546</td>\n",
       "      <td>11.299071</td>\n",
       "      <td>0</td>\n",
       "      <td>0</td>\n",
       "    </tr>\n",
       "  </tbody>\n",
       "</table>\n",
       "</div>"
      ],
      "text/plain": [
       "      UserID CourseCategory  TimeSpentOnCourse  NumberOfVideosWatched  \\\n",
       "8995    8757         Health          37.445225                     14   \n",
       "8996     894        Science          48.631443                      7   \n",
       "8997    6323         Health          38.212512                      3   \n",
       "8998    3652         Health          70.048665                     13   \n",
       "8999    5595         Health          93.589781                      7   \n",
       "\n",
       "      NumberOfQuizzesTaken  QuizScores  CompletionRate  DeviceType  \\\n",
       "8995                     4   54.469359       32.990704           1   \n",
       "8996                     7   59.413257        0.254625           0   \n",
       "8997                     3   69.508297       70.188159           1   \n",
       "8998                    10   79.655182       72.975225           1   \n",
       "8999                     5   56.274546       11.299071           0   \n",
       "\n",
       "      CourseCompletion  \n",
       "8995                 0  \n",
       "8996                 0  \n",
       "8997                 0  \n",
       "8998                 1  \n",
       "8999                 0  "
      ]
     },
     "execution_count": 4,
     "metadata": {},
     "output_type": "execute_result"
    }
   ],
   "source": [
    "# Display the last few rows of the dataframe\n",
    "df.tail()"
   ]
  },
  {
   "cell_type": "code",
   "execution_count": 5,
   "id": "84776937",
   "metadata": {
    "execution": {
     "iopub.execute_input": "2024-07-09T04:35:11.492995Z",
     "iopub.status.busy": "2024-07-09T04:35:11.492034Z",
     "iopub.status.idle": "2024-07-09T04:35:11.499053Z",
     "shell.execute_reply": "2024-07-09T04:35:11.497939Z"
    },
    "papermill": {
     "duration": 0.016992,
     "end_time": "2024-07-09T04:35:11.501581",
     "exception": false,
     "start_time": "2024-07-09T04:35:11.484589",
     "status": "completed"
    },
    "tags": []
   },
   "outputs": [
    {
     "data": {
      "text/plain": [
       "(9000, 9)"
      ]
     },
     "execution_count": 5,
     "metadata": {},
     "output_type": "execute_result"
    }
   ],
   "source": [
    "# Check the shape of the dataframe (number of rows and columns)\n",
    "df.shape"
   ]
  },
  {
   "cell_type": "code",
   "execution_count": 6,
   "id": "5bbb236c",
   "metadata": {
    "execution": {
     "iopub.execute_input": "2024-07-09T04:35:11.516854Z",
     "iopub.status.busy": "2024-07-09T04:35:11.516044Z",
     "iopub.status.idle": "2024-07-09T04:35:11.542431Z",
     "shell.execute_reply": "2024-07-09T04:35:11.541071Z"
    },
    "papermill": {
     "duration": 0.037195,
     "end_time": "2024-07-09T04:35:11.545345",
     "exception": false,
     "start_time": "2024-07-09T04:35:11.508150",
     "status": "completed"
    },
    "tags": []
   },
   "outputs": [
    {
     "name": "stdout",
     "output_type": "stream",
     "text": [
      "<class 'pandas.core.frame.DataFrame'>\n",
      "RangeIndex: 9000 entries, 0 to 8999\n",
      "Data columns (total 9 columns):\n",
      " #   Column                 Non-Null Count  Dtype  \n",
      "---  ------                 --------------  -----  \n",
      " 0   UserID                 9000 non-null   int64  \n",
      " 1   CourseCategory         9000 non-null   object \n",
      " 2   TimeSpentOnCourse      9000 non-null   float64\n",
      " 3   NumberOfVideosWatched  9000 non-null   int64  \n",
      " 4   NumberOfQuizzesTaken   9000 non-null   int64  \n",
      " 5   QuizScores             9000 non-null   float64\n",
      " 6   CompletionRate         9000 non-null   float64\n",
      " 7   DeviceType             9000 non-null   int64  \n",
      " 8   CourseCompletion       9000 non-null   int64  \n",
      "dtypes: float64(3), int64(5), object(1)\n",
      "memory usage: 632.9+ KB\n"
     ]
    }
   ],
   "source": [
    "# Get information about the dataframe (column names, data types, non-null values)\n",
    "df.info()"
   ]
  },
  {
   "cell_type": "code",
   "execution_count": 7,
   "id": "495a6cd6",
   "metadata": {
    "execution": {
     "iopub.execute_input": "2024-07-09T04:35:11.560432Z",
     "iopub.status.busy": "2024-07-09T04:35:11.560014Z",
     "iopub.status.idle": "2024-07-09T04:35:11.600274Z",
     "shell.execute_reply": "2024-07-09T04:35:11.598993Z"
    },
    "papermill": {
     "duration": 0.05111,
     "end_time": "2024-07-09T04:35:11.603175",
     "exception": false,
     "start_time": "2024-07-09T04:35:11.552065",
     "status": "completed"
    },
    "tags": []
   },
   "outputs": [
    {
     "data": {
      "text/html": [
       "<div>\n",
       "<style scoped>\n",
       "    .dataframe tbody tr th:only-of-type {\n",
       "        vertical-align: middle;\n",
       "    }\n",
       "\n",
       "    .dataframe tbody tr th {\n",
       "        vertical-align: top;\n",
       "    }\n",
       "\n",
       "    .dataframe thead th {\n",
       "        text-align: right;\n",
       "    }\n",
       "</style>\n",
       "<table border=\"1\" class=\"dataframe\">\n",
       "  <thead>\n",
       "    <tr style=\"text-align: right;\">\n",
       "      <th></th>\n",
       "      <th>UserID</th>\n",
       "      <th>TimeSpentOnCourse</th>\n",
       "      <th>NumberOfVideosWatched</th>\n",
       "      <th>NumberOfQuizzesTaken</th>\n",
       "      <th>QuizScores</th>\n",
       "      <th>CompletionRate</th>\n",
       "      <th>DeviceType</th>\n",
       "      <th>CourseCompletion</th>\n",
       "    </tr>\n",
       "  </thead>\n",
       "  <tbody>\n",
       "    <tr>\n",
       "      <th>count</th>\n",
       "      <td>9000.000000</td>\n",
       "      <td>9000.000000</td>\n",
       "      <td>9000.000000</td>\n",
       "      <td>9000.000000</td>\n",
       "      <td>9000.000000</td>\n",
       "      <td>9000.000000</td>\n",
       "      <td>9000.000000</td>\n",
       "      <td>9000.000000</td>\n",
       "    </tr>\n",
       "    <tr>\n",
       "      <th>mean</th>\n",
       "      <td>4498.894556</td>\n",
       "      <td>50.163822</td>\n",
       "      <td>10.024667</td>\n",
       "      <td>5.090556</td>\n",
       "      <td>74.706028</td>\n",
       "      <td>50.340146</td>\n",
       "      <td>0.500667</td>\n",
       "      <td>0.396444</td>\n",
       "    </tr>\n",
       "    <tr>\n",
       "      <th>std</th>\n",
       "      <td>2596.849433</td>\n",
       "      <td>28.491750</td>\n",
       "      <td>6.029878</td>\n",
       "      <td>3.157762</td>\n",
       "      <td>14.378383</td>\n",
       "      <td>28.950977</td>\n",
       "      <td>0.500027</td>\n",
       "      <td>0.489186</td>\n",
       "    </tr>\n",
       "    <tr>\n",
       "      <th>min</th>\n",
       "      <td>1.000000</td>\n",
       "      <td>1.005230</td>\n",
       "      <td>0.000000</td>\n",
       "      <td>0.000000</td>\n",
       "      <td>50.005119</td>\n",
       "      <td>0.009327</td>\n",
       "      <td>0.000000</td>\n",
       "      <td>0.000000</td>\n",
       "    </tr>\n",
       "    <tr>\n",
       "      <th>25%</th>\n",
       "      <td>2251.750000</td>\n",
       "      <td>25.440548</td>\n",
       "      <td>5.000000</td>\n",
       "      <td>2.000000</td>\n",
       "      <td>62.283451</td>\n",
       "      <td>25.653614</td>\n",
       "      <td>0.000000</td>\n",
       "      <td>0.000000</td>\n",
       "    </tr>\n",
       "    <tr>\n",
       "      <th>50%</th>\n",
       "      <td>4483.500000</td>\n",
       "      <td>49.818417</td>\n",
       "      <td>10.000000</td>\n",
       "      <td>5.000000</td>\n",
       "      <td>74.743294</td>\n",
       "      <td>50.264124</td>\n",
       "      <td>1.000000</td>\n",
       "      <td>0.000000</td>\n",
       "    </tr>\n",
       "    <tr>\n",
       "      <th>75%</th>\n",
       "      <td>6751.250000</td>\n",
       "      <td>75.069924</td>\n",
       "      <td>15.000000</td>\n",
       "      <td>8.000000</td>\n",
       "      <td>87.022663</td>\n",
       "      <td>75.572493</td>\n",
       "      <td>1.000000</td>\n",
       "      <td>1.000000</td>\n",
       "    </tr>\n",
       "    <tr>\n",
       "      <th>max</th>\n",
       "      <td>9000.000000</td>\n",
       "      <td>99.992558</td>\n",
       "      <td>20.000000</td>\n",
       "      <td>10.000000</td>\n",
       "      <td>99.994984</td>\n",
       "      <td>99.979711</td>\n",
       "      <td>1.000000</td>\n",
       "      <td>1.000000</td>\n",
       "    </tr>\n",
       "  </tbody>\n",
       "</table>\n",
       "</div>"
      ],
      "text/plain": [
       "            UserID  TimeSpentOnCourse  NumberOfVideosWatched  \\\n",
       "count  9000.000000        9000.000000            9000.000000   \n",
       "mean   4498.894556          50.163822              10.024667   \n",
       "std    2596.849433          28.491750               6.029878   \n",
       "min       1.000000           1.005230               0.000000   \n",
       "25%    2251.750000          25.440548               5.000000   \n",
       "50%    4483.500000          49.818417              10.000000   \n",
       "75%    6751.250000          75.069924              15.000000   \n",
       "max    9000.000000          99.992558              20.000000   \n",
       "\n",
       "       NumberOfQuizzesTaken   QuizScores  CompletionRate   DeviceType  \\\n",
       "count           9000.000000  9000.000000     9000.000000  9000.000000   \n",
       "mean               5.090556    74.706028       50.340146     0.500667   \n",
       "std                3.157762    14.378383       28.950977     0.500027   \n",
       "min                0.000000    50.005119        0.009327     0.000000   \n",
       "25%                2.000000    62.283451       25.653614     0.000000   \n",
       "50%                5.000000    74.743294       50.264124     1.000000   \n",
       "75%                8.000000    87.022663       75.572493     1.000000   \n",
       "max               10.000000    99.994984       99.979711     1.000000   \n",
       "\n",
       "       CourseCompletion  \n",
       "count       9000.000000  \n",
       "mean           0.396444  \n",
       "std            0.489186  \n",
       "min            0.000000  \n",
       "25%            0.000000  \n",
       "50%            0.000000  \n",
       "75%            1.000000  \n",
       "max            1.000000  "
      ]
     },
     "execution_count": 7,
     "metadata": {},
     "output_type": "execute_result"
    }
   ],
   "source": [
    "# Get descriptive statistics of the dataframe\n",
    "df.describe()"
   ]
  },
  {
   "cell_type": "code",
   "execution_count": 8,
   "id": "a93f6e96",
   "metadata": {
    "execution": {
     "iopub.execute_input": "2024-07-09T04:35:11.620144Z",
     "iopub.status.busy": "2024-07-09T04:35:11.619057Z",
     "iopub.status.idle": "2024-07-09T04:35:11.627187Z",
     "shell.execute_reply": "2024-07-09T04:35:11.626204Z"
    },
    "papermill": {
     "duration": 0.019371,
     "end_time": "2024-07-09T04:35:11.629587",
     "exception": false,
     "start_time": "2024-07-09T04:35:11.610216",
     "status": "completed"
    },
    "tags": []
   },
   "outputs": [],
   "source": [
    "# One-hot encode the 'CourseCategory' column\n",
    "dummies = pd.get_dummies(df.CourseCategory, drop_first=True, dtype=int)"
   ]
  },
  {
   "cell_type": "code",
   "execution_count": 9,
   "id": "16e937a9",
   "metadata": {
    "execution": {
     "iopub.execute_input": "2024-07-09T04:35:11.645229Z",
     "iopub.status.busy": "2024-07-09T04:35:11.644804Z",
     "iopub.status.idle": "2024-07-09T04:35:11.655873Z",
     "shell.execute_reply": "2024-07-09T04:35:11.654871Z"
    },
    "papermill": {
     "duration": 0.021866,
     "end_time": "2024-07-09T04:35:11.658435",
     "exception": false,
     "start_time": "2024-07-09T04:35:11.636569",
     "status": "completed"
    },
    "tags": []
   },
   "outputs": [
    {
     "data": {
      "text/html": [
       "<div>\n",
       "<style scoped>\n",
       "    .dataframe tbody tr th:only-of-type {\n",
       "        vertical-align: middle;\n",
       "    }\n",
       "\n",
       "    .dataframe tbody tr th {\n",
       "        vertical-align: top;\n",
       "    }\n",
       "\n",
       "    .dataframe thead th {\n",
       "        text-align: right;\n",
       "    }\n",
       "</style>\n",
       "<table border=\"1\" class=\"dataframe\">\n",
       "  <thead>\n",
       "    <tr style=\"text-align: right;\">\n",
       "      <th></th>\n",
       "      <th>Business</th>\n",
       "      <th>Health</th>\n",
       "      <th>Programming</th>\n",
       "      <th>Science</th>\n",
       "    </tr>\n",
       "  </thead>\n",
       "  <tbody>\n",
       "    <tr>\n",
       "      <th>0</th>\n",
       "      <td>0</td>\n",
       "      <td>1</td>\n",
       "      <td>0</td>\n",
       "      <td>0</td>\n",
       "    </tr>\n",
       "    <tr>\n",
       "      <th>1</th>\n",
       "      <td>0</td>\n",
       "      <td>0</td>\n",
       "      <td>0</td>\n",
       "      <td>0</td>\n",
       "    </tr>\n",
       "    <tr>\n",
       "      <th>2</th>\n",
       "      <td>0</td>\n",
       "      <td>0</td>\n",
       "      <td>0</td>\n",
       "      <td>0</td>\n",
       "    </tr>\n",
       "    <tr>\n",
       "      <th>3</th>\n",
       "      <td>0</td>\n",
       "      <td>0</td>\n",
       "      <td>0</td>\n",
       "      <td>1</td>\n",
       "    </tr>\n",
       "    <tr>\n",
       "      <th>4</th>\n",
       "      <td>0</td>\n",
       "      <td>0</td>\n",
       "      <td>1</td>\n",
       "      <td>0</td>\n",
       "    </tr>\n",
       "  </tbody>\n",
       "</table>\n",
       "</div>"
      ],
      "text/plain": [
       "   Business  Health  Programming  Science\n",
       "0         0       1            0        0\n",
       "1         0       0            0        0\n",
       "2         0       0            0        0\n",
       "3         0       0            0        1\n",
       "4         0       0            1        0"
      ]
     },
     "execution_count": 9,
     "metadata": {},
     "output_type": "execute_result"
    }
   ],
   "source": [
    "# Display the first few rows of the one-hot encoded dataframe\n",
    "dummies.head()"
   ]
  },
  {
   "cell_type": "code",
   "execution_count": 10,
   "id": "4bbdf30a",
   "metadata": {
    "execution": {
     "iopub.execute_input": "2024-07-09T04:35:11.675981Z",
     "iopub.status.busy": "2024-07-09T04:35:11.674947Z",
     "iopub.status.idle": "2024-07-09T04:35:11.684054Z",
     "shell.execute_reply": "2024-07-09T04:35:11.682970Z"
    },
    "papermill": {
     "duration": 0.020618,
     "end_time": "2024-07-09T04:35:11.686615",
     "exception": false,
     "start_time": "2024-07-09T04:35:11.665997",
     "status": "completed"
    },
    "tags": []
   },
   "outputs": [],
   "source": [
    "# Drop the 'UserID' column as it is not needed for modeling\n",
    "df = df.drop(['UserID'], axis=1)"
   ]
  },
  {
   "cell_type": "code",
   "execution_count": 11,
   "id": "6e580aac",
   "metadata": {
    "execution": {
     "iopub.execute_input": "2024-07-09T04:35:11.703451Z",
     "iopub.status.busy": "2024-07-09T04:35:11.703018Z",
     "iopub.status.idle": "2024-07-09T04:35:11.709759Z",
     "shell.execute_reply": "2024-07-09T04:35:11.708783Z"
    },
    "papermill": {
     "duration": 0.017996,
     "end_time": "2024-07-09T04:35:11.712236",
     "exception": false,
     "start_time": "2024-07-09T04:35:11.694240",
     "status": "completed"
    },
    "tags": []
   },
   "outputs": [],
   "source": [
    "# Merge the original dataframe with the one-hot encoded dataframe\n",
    "merged_df = pd.concat([df, dummies], axis=1)"
   ]
  },
  {
   "cell_type": "code",
   "execution_count": 12,
   "id": "3c389748",
   "metadata": {
    "execution": {
     "iopub.execute_input": "2024-07-09T04:35:11.729346Z",
     "iopub.status.busy": "2024-07-09T04:35:11.728511Z",
     "iopub.status.idle": "2024-07-09T04:35:11.981988Z",
     "shell.execute_reply": "2024-07-09T04:35:11.980678Z"
    },
    "papermill": {
     "duration": 0.265257,
     "end_time": "2024-07-09T04:35:11.984992",
     "exception": false,
     "start_time": "2024-07-09T04:35:11.719735",
     "status": "completed"
    },
    "tags": []
   },
   "outputs": [],
   "source": [
    "# Import the StandardScaler for feature scaling\n",
    "from sklearn.preprocessing import StandardScaler\n",
    "# Feature scaling (for SVM)\n",
    "scaler = StandardScaler()\n",
    "X_scaled = scaler.fit_transform(merged_df.drop(['Business', 'Health', 'Programming', 'Science', 'DeviceType', 'CourseCompletion', 'CourseCategory'], axis=1))"
   ]
  },
  {
   "cell_type": "code",
   "execution_count": 13,
   "id": "7129f824",
   "metadata": {
    "execution": {
     "iopub.execute_input": "2024-07-09T04:35:12.003859Z",
     "iopub.status.busy": "2024-07-09T04:35:12.003191Z",
     "iopub.status.idle": "2024-07-09T04:35:12.392312Z",
     "shell.execute_reply": "2024-07-09T04:35:12.390600Z"
    },
    "papermill": {
     "duration": 0.403003,
     "end_time": "2024-07-09T04:35:12.395566",
     "exception": false,
     "start_time": "2024-07-09T04:35:11.992563",
     "status": "completed"
    },
    "tags": []
   },
   "outputs": [],
   "source": [
    "# Import machine learning models\n",
    "from sklearn.ensemble import RandomForestClassifier\n",
    "from sklearn.tree import DecisionTreeClassifier\n",
    "from sklearn.svm import SVC\n",
    "# Evaluate multiple models\n",
    "from sklearn.metrics import accuracy_score, classification_report"
   ]
  },
  {
   "cell_type": "code",
   "execution_count": 14,
   "id": "edeeee85",
   "metadata": {
    "execution": {
     "iopub.execute_input": "2024-07-09T04:35:12.413732Z",
     "iopub.status.busy": "2024-07-09T04:35:12.413314Z",
     "iopub.status.idle": "2024-07-09T04:35:12.427425Z",
     "shell.execute_reply": "2024-07-09T04:35:12.426079Z"
    },
    "papermill": {
     "duration": 0.026492,
     "end_time": "2024-07-09T04:35:12.430359",
     "exception": false,
     "start_time": "2024-07-09T04:35:12.403867",
     "status": "completed"
    },
    "tags": []
   },
   "outputs": [],
   "source": [
    "# Split the data into training and testing sets\n",
    "from sklearn.model_selection import train_test_split\n",
    "X = merged_df.drop(['CourseCategory', 'CourseCompletion'], axis=1)\n",
    "y = df.CourseCompletion\n",
    "X_train, X_test, y_train, y_test = train_test_split(X, y, test_size=0.25)"
   ]
  },
  {
   "cell_type": "code",
   "execution_count": 15,
   "id": "becfba5a",
   "metadata": {
    "execution": {
     "iopub.execute_input": "2024-07-09T04:35:12.448692Z",
     "iopub.status.busy": "2024-07-09T04:35:12.447507Z",
     "iopub.status.idle": "2024-07-09T04:35:15.418001Z",
     "shell.execute_reply": "2024-07-09T04:35:15.416447Z"
    },
    "papermill": {
     "duration": 2.982292,
     "end_time": "2024-07-09T04:35:15.420649",
     "exception": false,
     "start_time": "2024-07-09T04:35:12.438357",
     "status": "completed"
    },
    "tags": []
   },
   "outputs": [
    {
     "name": "stdout",
     "output_type": "stream",
     "text": [
      "Evaluating RandomForest...\n",
      "Test set accuracy score for RandomForest: 0.9631\n",
      "Classification Report:\n",
      "              precision    recall  f1-score   support\n",
      "\n",
      "           0       0.96      0.98      0.97      1356\n",
      "           1       0.97      0.94      0.95       894\n",
      "\n",
      "    accuracy                           0.96      2250\n",
      "   macro avg       0.96      0.96      0.96      2250\n",
      "weighted avg       0.96      0.96      0.96      2250\n",
      "\n",
      "\n",
      "Evaluating DecisionTree...\n",
      "Test set accuracy score for DecisionTree: 0.9227\n",
      "Classification Report:\n",
      "              precision    recall  f1-score   support\n",
      "\n",
      "           0       0.93      0.94      0.94      1356\n",
      "           1       0.91      0.90      0.90       894\n",
      "\n",
      "    accuracy                           0.92      2250\n",
      "   macro avg       0.92      0.92      0.92      2250\n",
      "weighted avg       0.92      0.92      0.92      2250\n",
      "\n",
      "\n",
      "Evaluating SVM...\n",
      "Test set accuracy score for SVM: 0.8338\n",
      "Classification Report:\n",
      "              precision    recall  f1-score   support\n",
      "\n",
      "           0       0.84      0.89      0.87      1356\n",
      "           1       0.82      0.74      0.78       894\n",
      "\n",
      "    accuracy                           0.83      2250\n",
      "   macro avg       0.83      0.82      0.82      2250\n",
      "weighted avg       0.83      0.83      0.83      2250\n",
      "\n",
      "\n"
     ]
    }
   ],
   "source": [
    "# Define your models manually with selected hyperparameters or default ones\n",
    "models = {\n",
    "    'RandomForest': RandomForestClassifier(n_estimators=100, max_depth=None, min_samples_split=2),\n",
    "    'DecisionTree': DecisionTreeClassifier(max_depth=None, min_samples_split=2),\n",
    "    'SVM': SVC(C=1.0, gamma='scale', kernel='rbf')\n",
    "}\n",
    "\n",
    "# Train and evaluate each model separately\n",
    "for model_name, model in models.items():\n",
    "    print(f\"Evaluating {model_name}...\")\n",
    "    \n",
    "    # Train the model\n",
    "    model.fit(X_train, y_train)\n",
    "    \n",
    "    # Predict on the test set\n",
    "    y_pred = model.predict(X_test)\n",
    "    \n",
    "    # Calculate accuracy score\n",
    "    test_score = accuracy_score(y_test, y_pred)\n",
    "    print(f\"Test set accuracy score for {model_name}: {test_score:.4f}\")\n",
    "    \n",
    "    # Print classification report\n",
    "    print(\"Classification Report:\")\n",
    "    print(classification_report(y_test, y_pred))\n",
    "    print()"
   ]
  },
  {
   "cell_type": "markdown",
   "id": "02a7398a",
   "metadata": {
    "papermill": {
     "duration": 0.007937,
     "end_time": "2024-07-09T04:35:15.436914",
     "exception": false,
     "start_time": "2024-07-09T04:35:15.428977",
     "status": "completed"
    },
    "tags": []
   },
   "source": [
    "**Conclusion:**\n",
    "\n",
    "After evaluating multiple machine learning models on the online course engagement dataset, we obtained the following results:\n",
    "\n",
    "- **RandomForest:** Achieved the highest accuracy score of 96.49%. It demonstrated excellent performance with high precision and recall, making it the most reliable model among the three evaluated.\n",
    "- **DecisionTree:** Showed a good accuracy score of 92.31%. While it performed well, its accuracy and f1-scores were slightly lower compared to the RandomForest model.\n",
    "- **SVM:** Had the lowest accuracy score of 82.80%. Although it had reasonable performance, it was outperformed by both the RandomForest and DecisionTree models.\n",
    "\n",
    "Based on these results, the **RandomForest** model is recommended for predicting course completion in the given dataset due to its superior performance metrics."
   ]
  },
  {
   "cell_type": "code",
   "execution_count": null,
   "id": "3dabcfe2",
   "metadata": {
    "papermill": {
     "duration": 0.007714,
     "end_time": "2024-07-09T04:35:15.452996",
     "exception": false,
     "start_time": "2024-07-09T04:35:15.445282",
     "status": "completed"
    },
    "tags": []
   },
   "outputs": [],
   "source": []
  }
 ],
 "metadata": {
  "kaggle": {
   "accelerator": "none",
   "dataSources": [
    {
     "datasetId": 5236308,
     "sourceId": 8725325,
     "sourceType": "datasetVersion"
    }
   ],
   "isGpuEnabled": false,
   "isInternetEnabled": true,
   "language": "python",
   "sourceType": "notebook"
  },
  "kernelspec": {
   "display_name": "Python 3 (ipykernel)",
   "language": "python",
   "name": "python3"
  },
  "language_info": {
   "codemirror_mode": {
    "name": "ipython",
    "version": 3
   },
   "file_extension": ".py",
   "mimetype": "text/x-python",
   "name": "python",
   "nbconvert_exporter": "python",
   "pygments_lexer": "ipython3",
   "version": "3.10.13"
  },
  "papermill": {
   "default_parameters": {},
   "duration": 10.180452,
   "end_time": "2024-07-09T04:35:16.083311",
   "environment_variables": {},
   "exception": null,
   "input_path": "__notebook__.ipynb",
   "output_path": "__notebook__.ipynb",
   "parameters": {},
   "start_time": "2024-07-09T04:35:05.902859",
   "version": "2.5.0"
  }
 },
 "nbformat": 4,
 "nbformat_minor": 5
}
